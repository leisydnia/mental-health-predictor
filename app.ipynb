{
  "nbformat": 4,
  "nbformat_minor": 0,
  "metadata": {
    "colab": {
      "provenance": []
    },
    "kernelspec": {
      "name": "python3",
      "display_name": "Python 3"
    },
    "language_info": {
      "name": "python"
    }
  },
  "cells": [
    {
      "cell_type": "code",
      "source": [
        "import streamlit as st\n",
        "import joblib\n",
        "import re\n",
        "from Sastrawi.Stemmer.StemmerFactory import StemmerFactory\n",
        "\n",
        "# Load model dan vectorizer\n",
        "model = joblib.load(\"svm_model_sas.pkl\")  # Pastikan model SVM sudah dilatih\n",
        "vectorizer = joblib.load(\"tfidf_vectorizer_sas.pkl\")  # Pastikan vectorizer sudah dilatih\n",
        "\n",
        "# Kamus untuk mengganti slang words\n",
        "slang_dict = {\n",
        "    \"gue\": \"aku\", \"gw\": \"aku\", \"gua\": \"aku\", \"ga\": \"tidak\", \"gak\": \"tidak\", \"tak\": \"tidak\",\n",
        "    \"yg\": \"yang\", \"bgt\": \"banget\", \"aja\": \"saja\", \"dah\": \"sudah\", \"tp\": \"tapi\", \"sampe\": \"sampai\",\n",
        "    \"kalo\": \"kalau\"\n",
        "}\n",
        "\n",
        "# Inisialisasi stemmer\n",
        "factory = StemmerFactory()\n",
        "stemmer = factory.create_stemmer()\n",
        "\n",
        "# Fungsi untuk preprocessing teks\n",
        "def preprocess(text):\n",
        "    # Mengubah ke huruf kecil\n",
        "    text = text.lower()\n",
        "\n",
        "    # Menghapus URL, mention (@username), dan karakter selain huruf dan spasi\n",
        "    text = re.sub(r\"http\\S+|www.\\S+\", \"\", text)\n",
        "    text = re.sub(r\"@\\w+\", \"\", text)\n",
        "    text = re.sub(r\"[^a-zA-Z\\s]\", \"\", text)\n",
        "\n",
        "    # Mengganti slang dengan kata baku\n",
        "    tokens = text.split()\n",
        "    tokens = [slang_dict.get(token, token) for token in tokens]\n",
        "\n",
        "    # Stemming\n",
        "    tokens = [stemmer.stem(token) for token in tokens]\n",
        "\n",
        "    # Menggabungkan kembali menjadi satu teks\n",
        "    return ' '.join(tokens)\n",
        "\n",
        "# Mapping label ke hasil prediksi\n",
        "label_map = {0: \"Normal\", 1: \"Kecemasan/Depresi\"}\n",
        "\n",
        "# Menampilkan judul aplikasi\n",
        "st.title(\"Prediksi Kesehatan Mental dari Teks\")\n",
        "st.write(\"Masukkan teks di bawah ini dan sistem akan memprediksi apakah termasuk normal atau mengalami kecemasan/depresi.\")\n",
        "\n",
        "# Input teks dari pengguna\n",
        "user_input = st.text_area(\"Teks masukan\", height=150)\n",
        "\n",
        "# Proses ketika tombol prediksi ditekan\n",
        "if st.button(\"Prediksi\"):\n",
        "    if user_input.strip() == \"\":\n",
        "        st.warning(\"Masukkan teks terlebih dahulu.\")\n",
        "    else:\n",
        "        # Melakukan preprocessing pada input\n",
        "        clean_input = preprocess(user_input)\n",
        "\n",
        "        # Transformasi teks menjadi vektor menggunakan TF-IDF\n",
        "        vector = vectorizer.transform([clean_input])\n",
        "\n",
        "        # Melakukan prediksi dengan model SVM\n",
        "        prediction = model.predict(vector)[0]\n",
        "\n",
        "        # Menampilkan hasil prediksi\n",
        "        st.success(f\"Hasil prediksi: **{label_map[prediction]}**\")\n",
        "\n",
        "# Menambahkan tulisan kecil di bawah aplikasi\n",
        "st.markdown(\"<p style='font-size: 12px; color: gray;'>*tidak menggantikan peran psikolog</p>\", unsafe_allow_html=True)"
      ],
      "metadata": {
        "id": "S57O5C1K5aSC"
      },
      "execution_count": null,
      "outputs": []
    }
  ]
}